{
 "cells": [
  {
   "cell_type": "markdown",
   "metadata": {},
   "source": [
    "# Ingeniería de Datos con Python"
   ]
  },
  {
   "cell_type": "markdown",
   "metadata": {},
   "source": [
    "## Series"
   ]
  },
  {
   "cell_type": "code",
   "execution_count": 2,
   "metadata": {},
   "outputs": [
    {
     "data": {
      "text/plain": [
       "0    100\n",
       "1    200\n",
       "2    300\n",
       "dtype: int64"
      ]
     },
     "execution_count": 2,
     "metadata": {},
     "output_type": "execute_result"
    }
   ],
   "source": [
    "import pandas as pd\n",
    "series_test = pd.Series([100, 200, 300])\n",
    "series_test"
   ]
  },
  {
   "cell_type": "code",
   "execution_count": 2,
   "metadata": {},
   "outputs": [
    {
     "data": {
      "text/plain": [
       "1999    48\n",
       "2000    65\n",
       "2001    89\n",
       "dtype: int64"
      ]
     },
     "execution_count": 2,
     "metadata": {},
     "output_type": "execute_result"
    }
   ],
   "source": [
    "series_test2 = pd.Series({1999: 48, \n",
    "                          2000: 65, \n",
    "                          2001: 89})\n",
    "\n",
    "series_test2"
   ]
  },
  {
   "cell_type": "markdown",
   "metadata": {},
   "source": [
    "## DataFrames"
   ]
  },
  {
   "cell_type": "code",
   "execution_count": 3,
   "metadata": {},
   "outputs": [
    {
     "data": {
      "text/html": [
       "<div>\n",
       "<style scoped>\n",
       "    .dataframe tbody tr th:only-of-type {\n",
       "        vertical-align: middle;\n",
       "    }\n",
       "\n",
       "    .dataframe tbody tr th {\n",
       "        vertical-align: top;\n",
       "    }\n",
       "\n",
       "    .dataframe thead th {\n",
       "        text-align: right;\n",
       "    }\n",
       "</style>\n",
       "<table border=\"1\" class=\"dataframe\">\n",
       "  <thead>\n",
       "    <tr style=\"text-align: right;\">\n",
       "      <th></th>\n",
       "      <th>1999</th>\n",
       "      <th>2000</th>\n",
       "      <th>2001</th>\n",
       "    </tr>\n",
       "  </thead>\n",
       "  <tbody>\n",
       "    <tr>\n",
       "      <td>0</td>\n",
       "      <td>74</td>\n",
       "      <td>34</td>\n",
       "      <td>23</td>\n",
       "    </tr>\n",
       "    <tr>\n",
       "      <td>1</td>\n",
       "      <td>38</td>\n",
       "      <td>32</td>\n",
       "      <td>39</td>\n",
       "    </tr>\n",
       "    <tr>\n",
       "      <td>2</td>\n",
       "      <td>39</td>\n",
       "      <td>32</td>\n",
       "      <td>23</td>\n",
       "    </tr>\n",
       "  </tbody>\n",
       "</table>\n",
       "</div>"
      ],
      "text/plain": [
       "   1999  2000  2001\n",
       "0    74    34    23\n",
       "1    38    32    39\n",
       "2    39    32    23"
      ]
     },
     "execution_count": 3,
     "metadata": {},
     "output_type": "execute_result"
    }
   ],
   "source": [
    "frame_test = pd.DataFrame({1999: [74, 38, 39],\n",
    "                           2000: [34, 32, 32],\n",
    "                           2001: [23, 39, 23]})\n",
    "\n",
    "frame_test"
   ]
  },
  {
   "cell_type": "code",
   "execution_count": 4,
   "metadata": {},
   "outputs": [
    {
     "data": {
      "text/html": [
       "<div>\n",
       "<style scoped>\n",
       "    .dataframe tbody tr th:only-of-type {\n",
       "        vertical-align: middle;\n",
       "    }\n",
       "\n",
       "    .dataframe tbody tr th {\n",
       "        vertical-align: top;\n",
       "    }\n",
       "\n",
       "    .dataframe thead th {\n",
       "        text-align: right;\n",
       "    }\n",
       "</style>\n",
       "<table border=\"1\" class=\"dataframe\">\n",
       "  <thead>\n",
       "    <tr style=\"text-align: right;\">\n",
       "      <th></th>\n",
       "      <th>0</th>\n",
       "      <th>1</th>\n",
       "      <th>2</th>\n",
       "    </tr>\n",
       "  </thead>\n",
       "  <tbody>\n",
       "    <tr>\n",
       "      <td>1999</td>\n",
       "      <td>74</td>\n",
       "      <td>38</td>\n",
       "      <td>39</td>\n",
       "    </tr>\n",
       "    <tr>\n",
       "      <td>2000</td>\n",
       "      <td>34</td>\n",
       "      <td>32</td>\n",
       "      <td>32</td>\n",
       "    </tr>\n",
       "    <tr>\n",
       "      <td>2001</td>\n",
       "      <td>23</td>\n",
       "      <td>39</td>\n",
       "      <td>23</td>\n",
       "    </tr>\n",
       "  </tbody>\n",
       "</table>\n",
       "</div>"
      ],
      "text/plain": [
       "       0   1   2\n",
       "1999  74  38  39\n",
       "2000  34  32  32\n",
       "2001  23  39  23"
      ]
     },
     "execution_count": 4,
     "metadata": {},
     "output_type": "execute_result"
    }
   ],
   "source": [
    "frame_test2 = pd.DataFrame([[74, 38, 39],\n",
    "                           [34, 32, 32],\n",
    "                           [23, 39, 23]], index=[1999, 2000, 2001])\n",
    "\n",
    "frame_test2"
   ]
  },
  {
   "cell_type": "markdown",
   "metadata": {},
   "source": [
    "## Read data"
   ]
  },
  {
   "cell_type": "code",
   "execution_count": 12,
   "metadata": {},
   "outputs": [
    {
     "name": "stdout",
     "output_type": "stream",
     "text": [
      "<class 'pandas.core.frame.DataFrame'>\n",
      "                                                body  \\\n",
      "0  \\nLa procuradora Ernestina Godoy confirmó que ...   \n",
      "1                                                NaN   \n",
      "2                                                NaN   \n",
      "3  \\n\\nTras el triunfo de Barbosa y la derrota de...   \n",
      "4  \\n\\nLa noticia de que las niñas y niños de la ...   \n",
      "\n",
      "                                               title  \\\n",
      "0  Matan a exdiputado de Tláhuac; investigan vínc...   \n",
      "1                                                NaN   \n",
      "2                                                NaN   \n",
      "3  Puebla: un tropiezo electoral no es una derrot...   \n",
      "4                          Entre faldas y pantalones   \n",
      "\n",
      "                                                 url  \n",
      "0  http://www.eluniversal.com.mx/metropoli/cdmx/m...  \n",
      "1         http://www.eluniversal.com.mx/deportes/box  \n",
      "2  https://www.tangible-eluniversal.com.mx/en-ver...  \n",
      "3  https://www.eluniversal.com.mx/articulo/maria-...  \n",
      "4  https://www.eluniversal.com.mx/articulo/letici...  \n",
      "                                                  body  \\\n",
      "194  \\nCDMX.- Cerca de las 18:30 horas, un hombre d...   \n",
      "195  \\nTexto: Aída Castro SánchezDiseño web: Miguel...   \n",
      "196  \\nTingüindín, Michoacán.- Diego Vidal Manzo, s...   \n",
      "197                                                NaN   \n",
      "198                                                NaN   \n",
      "\n",
      "                                                 title  \\\n",
      "194  Policía auxilia a hombre de la tercera edad qu...   \n",
      "195  Las primeras reporteras que rompieron con los ...   \n",
      "196  Grupo armado ataca a subdirector de Seguridad ...   \n",
      "197                                                NaN   \n",
      "198         Concacaf pide al Tri priorizar la Copa Oro   \n",
      "\n",
      "                                                   url  \n",
      "194  http://www.eluniversal.com.mx/metropoli/cdmx/p...  \n",
      "195  https://www.eluniversal.com.mx/mochilazo-en-el...  \n",
      "196  http://www.eluniversal.com.mx/estados/grupo-ar...  \n",
      "197     http://www.eluniversal.com.mx/nacion/seguridad  \n",
      "198             http://www.eluniversal.com.mx/deportes  \n"
     ]
    }
   ],
   "source": [
    "pd.options.display.max_rows = 10\n",
    "el_universal = pd.read_csv('D:/Repositories/Platzi/1-MinTic_IA/3-IngenieraDeDatos/22_23-Series_DataFrames/eluniversal_2019_06_07_articles.csv')\n",
    "print(type(el_universal))\n",
    "print(el_universal.head()) #muestra los 5 primeros datos\n",
    "print(el_universal.tail()) #muestra los últimos 5 datos\n"
   ]
  },
  {
   "cell_type": "markdown",
   "metadata": {},
   "source": [
    "## Index and selection"
   ]
  },
  {
   "cell_type": "code",
   "execution_count": 13,
   "metadata": {},
   "outputs": [
    {
     "data": {
      "text/plain": [
       "0      Matan a exdiputado de Tláhuac; investigan vínc...\n",
       "1                                                    NaN\n",
       "2                                                    NaN\n",
       "3      Puebla: un tropiezo electoral no es una derrot...\n",
       "4                              Entre faldas y pantalones\n",
       "                             ...                        \n",
       "194    Policía auxilia a hombre de la tercera edad qu...\n",
       "195    Las primeras reporteras que rompieron con los ...\n",
       "196    Grupo armado ataca a subdirector de Seguridad ...\n",
       "197                                                  NaN\n",
       "198           Concacaf pide al Tri priorizar la Copa Oro\n",
       "Name: title, Length: 199, dtype: object"
      ]
     },
     "execution_count": 13,
     "metadata": {},
     "output_type": "execute_result"
    }
   ],
   "source": [
    "# dictionary like\n",
    "el_universal['title'] # solo muestra la columna title"
   ]
  },
  {
   "cell_type": "code",
   "execution_count": 14,
   "metadata": {},
   "outputs": [
    {
     "data": {
      "text/html": [
       "<div>\n",
       "<style scoped>\n",
       "    .dataframe tbody tr th:only-of-type {\n",
       "        vertical-align: middle;\n",
       "    }\n",
       "\n",
       "    .dataframe tbody tr th {\n",
       "        vertical-align: top;\n",
       "    }\n",
       "\n",
       "    .dataframe thead th {\n",
       "        text-align: right;\n",
       "    }\n",
       "</style>\n",
       "<table border=\"1\" class=\"dataframe\">\n",
       "  <thead>\n",
       "    <tr style=\"text-align: right;\">\n",
       "      <th></th>\n",
       "      <th>title</th>\n",
       "      <th>url</th>\n",
       "    </tr>\n",
       "  </thead>\n",
       "  <tbody>\n",
       "    <tr>\n",
       "      <td>0</td>\n",
       "      <td>Matan a exdiputado de Tláhuac; investigan vínc...</td>\n",
       "      <td>http://www.eluniversal.com.mx/metropoli/cdmx/m...</td>\n",
       "    </tr>\n",
       "    <tr>\n",
       "      <td>1</td>\n",
       "      <td>NaN</td>\n",
       "      <td>http://www.eluniversal.com.mx/deportes/box</td>\n",
       "    </tr>\n",
       "    <tr>\n",
       "      <td>2</td>\n",
       "      <td>NaN</td>\n",
       "      <td>https://www.tangible-eluniversal.com.mx/en-ver...</td>\n",
       "    </tr>\n",
       "    <tr>\n",
       "      <td>3</td>\n",
       "      <td>Puebla: un tropiezo electoral no es una derrot...</td>\n",
       "      <td>https://www.eluniversal.com.mx/articulo/maria-...</td>\n",
       "    </tr>\n",
       "    <tr>\n",
       "      <td>4</td>\n",
       "      <td>Entre faldas y pantalones</td>\n",
       "      <td>https://www.eluniversal.com.mx/articulo/letici...</td>\n",
       "    </tr>\n",
       "    <tr>\n",
       "      <td>...</td>\n",
       "      <td>...</td>\n",
       "      <td>...</td>\n",
       "    </tr>\n",
       "    <tr>\n",
       "      <td>194</td>\n",
       "      <td>Policía auxilia a hombre de la tercera edad qu...</td>\n",
       "      <td>http://www.eluniversal.com.mx/metropoli/cdmx/p...</td>\n",
       "    </tr>\n",
       "    <tr>\n",
       "      <td>195</td>\n",
       "      <td>Las primeras reporteras que rompieron con los ...</td>\n",
       "      <td>https://www.eluniversal.com.mx/mochilazo-en-el...</td>\n",
       "    </tr>\n",
       "    <tr>\n",
       "      <td>196</td>\n",
       "      <td>Grupo armado ataca a subdirector de Seguridad ...</td>\n",
       "      <td>http://www.eluniversal.com.mx/estados/grupo-ar...</td>\n",
       "    </tr>\n",
       "    <tr>\n",
       "      <td>197</td>\n",
       "      <td>NaN</td>\n",
       "      <td>http://www.eluniversal.com.mx/nacion/seguridad</td>\n",
       "    </tr>\n",
       "    <tr>\n",
       "      <td>198</td>\n",
       "      <td>Concacaf pide al Tri priorizar la Copa Oro</td>\n",
       "      <td>http://www.eluniversal.com.mx/deportes</td>\n",
       "    </tr>\n",
       "  </tbody>\n",
       "</table>\n",
       "<p>199 rows × 2 columns</p>\n",
       "</div>"
      ],
      "text/plain": [
       "                                                 title  \\\n",
       "0    Matan a exdiputado de Tláhuac; investigan vínc...   \n",
       "1                                                  NaN   \n",
       "2                                                  NaN   \n",
       "3    Puebla: un tropiezo electoral no es una derrot...   \n",
       "4                            Entre faldas y pantalones   \n",
       "..                                                 ...   \n",
       "194  Policía auxilia a hombre de la tercera edad qu...   \n",
       "195  Las primeras reporteras que rompieron con los ...   \n",
       "196  Grupo armado ataca a subdirector de Seguridad ...   \n",
       "197                                                NaN   \n",
       "198         Concacaf pide al Tri priorizar la Copa Oro   \n",
       "\n",
       "                                                   url  \n",
       "0    http://www.eluniversal.com.mx/metropoli/cdmx/m...  \n",
       "1           http://www.eluniversal.com.mx/deportes/box  \n",
       "2    https://www.tangible-eluniversal.com.mx/en-ver...  \n",
       "3    https://www.eluniversal.com.mx/articulo/maria-...  \n",
       "4    https://www.eluniversal.com.mx/articulo/letici...  \n",
       "..                                                 ...  \n",
       "194  http://www.eluniversal.com.mx/metropoli/cdmx/p...  \n",
       "195  https://www.eluniversal.com.mx/mochilazo-en-el...  \n",
       "196  http://www.eluniversal.com.mx/estados/grupo-ar...  \n",
       "197     http://www.eluniversal.com.mx/nacion/seguridad  \n",
       "198             http://www.eluniversal.com.mx/deportes  \n",
       "\n",
       "[199 rows x 2 columns]"
      ]
     },
     "execution_count": 14,
     "metadata": {},
     "output_type": "execute_result"
    }
   ],
   "source": [
    "el_universal[['title','url']] # muestra todas las filas y las columnas title y url"
   ]
  },
  {
   "cell_type": "code",
   "execution_count": 15,
   "metadata": {},
   "outputs": [
    {
     "data": {
      "text/html": [
       "<div>\n",
       "<style scoped>\n",
       "    .dataframe tbody tr th:only-of-type {\n",
       "        vertical-align: middle;\n",
       "    }\n",
       "\n",
       "    .dataframe tbody tr th {\n",
       "        vertical-align: top;\n",
       "    }\n",
       "\n",
       "    .dataframe thead th {\n",
       "        text-align: right;\n",
       "    }\n",
       "</style>\n",
       "<table border=\"1\" class=\"dataframe\">\n",
       "  <thead>\n",
       "    <tr style=\"text-align: right;\">\n",
       "      <th></th>\n",
       "      <th>body</th>\n",
       "      <th>title</th>\n",
       "      <th>url</th>\n",
       "    </tr>\n",
       "  </thead>\n",
       "  <tbody>\n",
       "    <tr>\n",
       "      <td>10</td>\n",
       "      <td>NaN</td>\n",
       "      <td>NaN</td>\n",
       "      <td>https://bit.ly/2jmdiXT</td>\n",
       "    </tr>\n",
       "    <tr>\n",
       "      <td>11</td>\n",
       "      <td>NaN</td>\n",
       "      <td>María Elena Morera</td>\n",
       "      <td>http://www.eluniversal.com.mx/autor-opinion/ar...</td>\n",
       "    </tr>\n",
       "    <tr>\n",
       "      <td>12</td>\n",
       "      <td>El año 2019 todavía es joven, pero un par de m...</td>\n",
       "      <td>NaN</td>\n",
       "      <td>https://www.elgrafico.mx/espectaculos/ellas-so...</td>\n",
       "    </tr>\n",
       "    <tr>\n",
       "      <td>13</td>\n",
       "      <td>NaN</td>\n",
       "      <td>Andrew Selee</td>\n",
       "      <td>http://www.eluniversal.com.mx/autor-opinion/ar...</td>\n",
       "    </tr>\n",
       "    <tr>\n",
       "      <td>14</td>\n",
       "      <td>La banda de rock Los Amigos Invisibles se pres...</td>\n",
       "      <td>Los Amigos Invisibles en Naucalpan: Compra tus...</td>\n",
       "      <td>http://www.unionedomex.mx/articulo/2019/06/07/...</td>\n",
       "    </tr>\n",
       "  </tbody>\n",
       "</table>\n",
       "</div>"
      ],
      "text/plain": [
       "                                                 body  \\\n",
       "10                                                NaN   \n",
       "11                                                NaN   \n",
       "12  El año 2019 todavía es joven, pero un par de m...   \n",
       "13                                                NaN   \n",
       "14  La banda de rock Los Amigos Invisibles se pres...   \n",
       "\n",
       "                                                title  \\\n",
       "10                                                NaN   \n",
       "11                                 María Elena Morera   \n",
       "12                                                NaN   \n",
       "13                                       Andrew Selee   \n",
       "14  Los Amigos Invisibles en Naucalpan: Compra tus...   \n",
       "\n",
       "                                                  url  \n",
       "10                             https://bit.ly/2jmdiXT  \n",
       "11  http://www.eluniversal.com.mx/autor-opinion/ar...  \n",
       "12  https://www.elgrafico.mx/espectaculos/ellas-so...  \n",
       "13  http://www.eluniversal.com.mx/autor-opinion/ar...  \n",
       "14  http://www.unionedomex.mx/articulo/2019/06/07/...  "
      ]
     },
     "execution_count": 15,
     "metadata": {},
     "output_type": "execute_result"
    }
   ],
   "source": [
    "#Numpy like\n",
    "el_universal.iloc[10:15] #iloc \"index location\", en este caso trae las filas 10 hasta la 15 (sin incluirlo)"
   ]
  },
  {
   "cell_type": "code",
   "execution_count": 16,
   "metadata": {},
   "outputs": [
    {
     "data": {
      "text/plain": [
       "'Naasón “ha sido víctima de complot cibernético”, dice defensa'"
      ]
     },
     "execution_count": 16,
     "metadata": {},
     "output_type": "execute_result"
    }
   ],
   "source": [
    "el_universal.iloc[66]['title'] #del item 66 traiga el titulo"
   ]
  },
  {
   "cell_type": "code",
   "execution_count": 18,
   "metadata": {},
   "outputs": [
    {
     "data": {
      "text/plain": [
       "0    \\nLa procuradora Ernestina Godoy confirmó que ...\n",
       "1                                                  NaN\n",
       "2                                                  NaN\n",
       "3    \\n\\nTras el triunfo de Barbosa y la derrota de...\n",
       "4    \\n\\nLa noticia de que las niñas y niños de la ...\n",
       "Name: body, dtype: object"
      ]
     },
     "execution_count": 18,
     "metadata": {},
     "output_type": "execute_result"
    }
   ],
   "source": [
    "el_universal.iloc[:5,0] #las primeras 5 filas de la columna 0"
   ]
  },
  {
   "cell_type": "code",
   "execution_count": 24,
   "metadata": {},
   "outputs": [
    {
     "data": {
      "text/html": [
       "<div>\n",
       "<style scoped>\n",
       "    .dataframe tbody tr th:only-of-type {\n",
       "        vertical-align: middle;\n",
       "    }\n",
       "\n",
       "    .dataframe tbody tr th {\n",
       "        vertical-align: top;\n",
       "    }\n",
       "\n",
       "    .dataframe thead th {\n",
       "        text-align: right;\n",
       "    }\n",
       "</style>\n",
       "<table border=\"1\" class=\"dataframe\">\n",
       "  <thead>\n",
       "    <tr style=\"text-align: right;\">\n",
       "      <th></th>\n",
       "      <th>body</th>\n",
       "      <th>title</th>\n",
       "    </tr>\n",
       "  </thead>\n",
       "  <tbody>\n",
       "    <tr>\n",
       "      <td>0</td>\n",
       "      <td>\\nLa procuradora Ernestina Godoy confirmó que ...</td>\n",
       "      <td>Matan a exdiputado de Tláhuac; investigan vínc...</td>\n",
       "    </tr>\n",
       "    <tr>\n",
       "      <td>1</td>\n",
       "      <td>NaN</td>\n",
       "      <td>NaN</td>\n",
       "    </tr>\n",
       "    <tr>\n",
       "      <td>2</td>\n",
       "      <td>NaN</td>\n",
       "      <td>NaN</td>\n",
       "    </tr>\n",
       "    <tr>\n",
       "      <td>3</td>\n",
       "      <td>\\n\\nTras el triunfo de Barbosa y la derrota de...</td>\n",
       "      <td>Puebla: un tropiezo electoral no es una derrot...</td>\n",
       "    </tr>\n",
       "    <tr>\n",
       "      <td>4</td>\n",
       "      <td>\\n\\nLa noticia de que las niñas y niños de la ...</td>\n",
       "      <td>Entre faldas y pantalones</td>\n",
       "    </tr>\n",
       "    <tr>\n",
       "      <td>...</td>\n",
       "      <td>...</td>\n",
       "      <td>...</td>\n",
       "    </tr>\n",
       "    <tr>\n",
       "      <td>194</td>\n",
       "      <td>\\nCDMX.- Cerca de las 18:30 horas, un hombre d...</td>\n",
       "      <td>Policía auxilia a hombre de la tercera edad qu...</td>\n",
       "    </tr>\n",
       "    <tr>\n",
       "      <td>195</td>\n",
       "      <td>\\nTexto: Aída Castro SánchezDiseño web: Miguel...</td>\n",
       "      <td>Las primeras reporteras que rompieron con los ...</td>\n",
       "    </tr>\n",
       "    <tr>\n",
       "      <td>196</td>\n",
       "      <td>\\nTingüindín, Michoacán.- Diego Vidal Manzo, s...</td>\n",
       "      <td>Grupo armado ataca a subdirector de Seguridad ...</td>\n",
       "    </tr>\n",
       "    <tr>\n",
       "      <td>197</td>\n",
       "      <td>NaN</td>\n",
       "      <td>NaN</td>\n",
       "    </tr>\n",
       "    <tr>\n",
       "      <td>198</td>\n",
       "      <td>NaN</td>\n",
       "      <td>Concacaf pide al Tri priorizar la Copa Oro</td>\n",
       "    </tr>\n",
       "  </tbody>\n",
       "</table>\n",
       "<p>199 rows × 2 columns</p>\n",
       "</div>"
      ],
      "text/plain": [
       "                                                  body  \\\n",
       "0    \\nLa procuradora Ernestina Godoy confirmó que ...   \n",
       "1                                                  NaN   \n",
       "2                                                  NaN   \n",
       "3    \\n\\nTras el triunfo de Barbosa y la derrota de...   \n",
       "4    \\n\\nLa noticia de que las niñas y niños de la ...   \n",
       "..                                                 ...   \n",
       "194  \\nCDMX.- Cerca de las 18:30 horas, un hombre d...   \n",
       "195  \\nTexto: Aída Castro SánchezDiseño web: Miguel...   \n",
       "196  \\nTingüindín, Michoacán.- Diego Vidal Manzo, s...   \n",
       "197                                                NaN   \n",
       "198                                                NaN   \n",
       "\n",
       "                                                 title  \n",
       "0    Matan a exdiputado de Tláhuac; investigan vínc...  \n",
       "1                                                  NaN  \n",
       "2                                                  NaN  \n",
       "3    Puebla: un tropiezo electoral no es una derrot...  \n",
       "4                            Entre faldas y pantalones  \n",
       "..                                                 ...  \n",
       "194  Policía auxilia a hombre de la tercera edad qu...  \n",
       "195  Las primeras reporteras que rompieron con los ...  \n",
       "196  Grupo armado ataca a subdirector de Seguridad ...  \n",
       "197                                                NaN  \n",
       "198         Concacaf pide al Tri priorizar la Copa Oro  \n",
       "\n",
       "[199 rows x 2 columns]"
      ]
     },
     "execution_count": 24,
     "metadata": {},
     "output_type": "execute_result"
    }
   ],
   "source": [
    "# forma recomendada a traves de labels\n",
    "el_universal.loc[:,'body':'title'] #todas las filas, columnas desde body hasta title (incluyendo)"
   ]
  },
  {
   "cell_type": "markdown",
   "metadata": {},
   "source": [
    "## Data wrangling"
   ]
  },
  {
   "cell_type": "code",
   "execution_count": 27,
   "metadata": {},
   "outputs": [
    {
     "data": {
      "text/html": [
       "<div>\n",
       "<style scoped>\n",
       "    .dataframe tbody tr th:only-of-type {\n",
       "        vertical-align: middle;\n",
       "    }\n",
       "\n",
       "    .dataframe tbody tr th {\n",
       "        vertical-align: top;\n",
       "    }\n",
       "\n",
       "    .dataframe thead th {\n",
       "        text-align: right;\n",
       "    }\n",
       "</style>\n",
       "<table border=\"1\" class=\"dataframe\">\n",
       "  <thead>\n",
       "    <tr style=\"text-align: right;\">\n",
       "      <th></th>\n",
       "      <th>body</th>\n",
       "      <th>title</th>\n",
       "      <th>url</th>\n",
       "      <th>newspaper_uid</th>\n",
       "    </tr>\n",
       "  </thead>\n",
       "  <tbody>\n",
       "    <tr>\n",
       "      <td>0</td>\n",
       "      <td>\\nLa procuradora Ernestina Godoy confirmó que ...</td>\n",
       "      <td>Matan a exdiputado de Tláhuac; investigan vínc...</td>\n",
       "      <td>http://www.eluniversal.com.mx/metropoli/cdmx/m...</td>\n",
       "      <td>eluniversal</td>\n",
       "    </tr>\n",
       "    <tr>\n",
       "      <td>1</td>\n",
       "      <td>NaN</td>\n",
       "      <td>NaN</td>\n",
       "      <td>http://www.eluniversal.com.mx/deportes/box</td>\n",
       "      <td>eluniversal</td>\n",
       "    </tr>\n",
       "    <tr>\n",
       "      <td>2</td>\n",
       "      <td>NaN</td>\n",
       "      <td>NaN</td>\n",
       "      <td>https://www.tangible-eluniversal.com.mx/en-ver...</td>\n",
       "      <td>eluniversal</td>\n",
       "    </tr>\n",
       "    <tr>\n",
       "      <td>3</td>\n",
       "      <td>\\n\\nTras el triunfo de Barbosa y la derrota de...</td>\n",
       "      <td>Puebla: un tropiezo electoral no es una derrot...</td>\n",
       "      <td>https://www.eluniversal.com.mx/articulo/maria-...</td>\n",
       "      <td>eluniversal</td>\n",
       "    </tr>\n",
       "    <tr>\n",
       "      <td>4</td>\n",
       "      <td>\\n\\nLa noticia de que las niñas y niños de la ...</td>\n",
       "      <td>Entre faldas y pantalones</td>\n",
       "      <td>https://www.eluniversal.com.mx/articulo/letici...</td>\n",
       "      <td>eluniversal</td>\n",
       "    </tr>\n",
       "    <tr>\n",
       "      <td>...</td>\n",
       "      <td>...</td>\n",
       "      <td>...</td>\n",
       "      <td>...</td>\n",
       "      <td>...</td>\n",
       "    </tr>\n",
       "    <tr>\n",
       "      <td>194</td>\n",
       "      <td>\\nCDMX.- Cerca de las 18:30 horas, un hombre d...</td>\n",
       "      <td>Policía auxilia a hombre de la tercera edad qu...</td>\n",
       "      <td>http://www.eluniversal.com.mx/metropoli/cdmx/p...</td>\n",
       "      <td>eluniversal</td>\n",
       "    </tr>\n",
       "    <tr>\n",
       "      <td>195</td>\n",
       "      <td>\\nTexto: Aída Castro SánchezDiseño web: Miguel...</td>\n",
       "      <td>Las primeras reporteras que rompieron con los ...</td>\n",
       "      <td>https://www.eluniversal.com.mx/mochilazo-en-el...</td>\n",
       "      <td>eluniversal</td>\n",
       "    </tr>\n",
       "    <tr>\n",
       "      <td>196</td>\n",
       "      <td>\\nTingüindín, Michoacán.- Diego Vidal Manzo, s...</td>\n",
       "      <td>Grupo armado ataca a subdirector de Seguridad ...</td>\n",
       "      <td>http://www.eluniversal.com.mx/estados/grupo-ar...</td>\n",
       "      <td>eluniversal</td>\n",
       "    </tr>\n",
       "    <tr>\n",
       "      <td>197</td>\n",
       "      <td>NaN</td>\n",
       "      <td>NaN</td>\n",
       "      <td>http://www.eluniversal.com.mx/nacion/seguridad</td>\n",
       "      <td>eluniversal</td>\n",
       "    </tr>\n",
       "    <tr>\n",
       "      <td>198</td>\n",
       "      <td>NaN</td>\n",
       "      <td>Concacaf pide al Tri priorizar la Copa Oro</td>\n",
       "      <td>http://www.eluniversal.com.mx/deportes</td>\n",
       "      <td>eluniversal</td>\n",
       "    </tr>\n",
       "  </tbody>\n",
       "</table>\n",
       "<p>199 rows × 4 columns</p>\n",
       "</div>"
      ],
      "text/plain": [
       "                                                  body  \\\n",
       "0    \\nLa procuradora Ernestina Godoy confirmó que ...   \n",
       "1                                                  NaN   \n",
       "2                                                  NaN   \n",
       "3    \\n\\nTras el triunfo de Barbosa y la derrota de...   \n",
       "4    \\n\\nLa noticia de que las niñas y niños de la ...   \n",
       "..                                                 ...   \n",
       "194  \\nCDMX.- Cerca de las 18:30 horas, un hombre d...   \n",
       "195  \\nTexto: Aída Castro SánchezDiseño web: Miguel...   \n",
       "196  \\nTingüindín, Michoacán.- Diego Vidal Manzo, s...   \n",
       "197                                                NaN   \n",
       "198                                                NaN   \n",
       "\n",
       "                                                 title  \\\n",
       "0    Matan a exdiputado de Tláhuac; investigan vínc...   \n",
       "1                                                  NaN   \n",
       "2                                                  NaN   \n",
       "3    Puebla: un tropiezo electoral no es una derrot...   \n",
       "4                            Entre faldas y pantalones   \n",
       "..                                                 ...   \n",
       "194  Policía auxilia a hombre de la tercera edad qu...   \n",
       "195  Las primeras reporteras que rompieron con los ...   \n",
       "196  Grupo armado ataca a subdirector de Seguridad ...   \n",
       "197                                                NaN   \n",
       "198         Concacaf pide al Tri priorizar la Copa Oro   \n",
       "\n",
       "                                                   url newspaper_uid  \n",
       "0    http://www.eluniversal.com.mx/metropoli/cdmx/m...   eluniversal  \n",
       "1           http://www.eluniversal.com.mx/deportes/box   eluniversal  \n",
       "2    https://www.tangible-eluniversal.com.mx/en-ver...   eluniversal  \n",
       "3    https://www.eluniversal.com.mx/articulo/maria-...   eluniversal  \n",
       "4    https://www.eluniversal.com.mx/articulo/letici...   eluniversal  \n",
       "..                                                 ...           ...  \n",
       "194  http://www.eluniversal.com.mx/metropoli/cdmx/p...   eluniversal  \n",
       "195  https://www.eluniversal.com.mx/mochilazo-en-el...   eluniversal  \n",
       "196  http://www.eluniversal.com.mx/estados/grupo-ar...   eluniversal  \n",
       "197     http://www.eluniversal.com.mx/nacion/seguridad   eluniversal  \n",
       "198             http://www.eluniversal.com.mx/deportes   eluniversal  \n",
       "\n",
       "[199 rows x 4 columns]"
      ]
     },
     "execution_count": 27,
     "metadata": {},
     "output_type": "execute_result"
    }
   ],
   "source": [
    "#Transformación, domado de datos\n",
    "#1. Añadir el newspaper_uid al DataFrame\n",
    "el_universal['newspaper_uid'] = 'eluniversal'\n",
    "el_universal"
   ]
  },
  {
   "cell_type": "code",
   "execution_count": 29,
   "metadata": {},
   "outputs": [
    {
     "data": {
      "text/html": [
       "<div>\n",
       "<style scoped>\n",
       "    .dataframe tbody tr th:only-of-type {\n",
       "        vertical-align: middle;\n",
       "    }\n",
       "\n",
       "    .dataframe tbody tr th {\n",
       "        vertical-align: top;\n",
       "    }\n",
       "\n",
       "    .dataframe thead th {\n",
       "        text-align: right;\n",
       "    }\n",
       "</style>\n",
       "<table border=\"1\" class=\"dataframe\">\n",
       "  <thead>\n",
       "    <tr style=\"text-align: right;\">\n",
       "      <th></th>\n",
       "      <th>body</th>\n",
       "      <th>title</th>\n",
       "      <th>url</th>\n",
       "      <th>newspaper_uid</th>\n",
       "      <th>host</th>\n",
       "    </tr>\n",
       "  </thead>\n",
       "  <tbody>\n",
       "    <tr>\n",
       "      <td>0</td>\n",
       "      <td>\\nLa procuradora Ernestina Godoy confirmó que ...</td>\n",
       "      <td>Matan a exdiputado de Tláhuac; investigan vínc...</td>\n",
       "      <td>http://www.eluniversal.com.mx/metropoli/cdmx/m...</td>\n",
       "      <td>eluniversal</td>\n",
       "      <td>www.eluniversal.com.mx</td>\n",
       "    </tr>\n",
       "    <tr>\n",
       "      <td>1</td>\n",
       "      <td>NaN</td>\n",
       "      <td>NaN</td>\n",
       "      <td>http://www.eluniversal.com.mx/deportes/box</td>\n",
       "      <td>eluniversal</td>\n",
       "      <td>www.eluniversal.com.mx</td>\n",
       "    </tr>\n",
       "    <tr>\n",
       "      <td>2</td>\n",
       "      <td>NaN</td>\n",
       "      <td>NaN</td>\n",
       "      <td>https://www.tangible-eluniversal.com.mx/en-ver...</td>\n",
       "      <td>eluniversal</td>\n",
       "      <td>www.tangible-eluniversal.com.mx</td>\n",
       "    </tr>\n",
       "    <tr>\n",
       "      <td>3</td>\n",
       "      <td>\\n\\nTras el triunfo de Barbosa y la derrota de...</td>\n",
       "      <td>Puebla: un tropiezo electoral no es una derrot...</td>\n",
       "      <td>https://www.eluniversal.com.mx/articulo/maria-...</td>\n",
       "      <td>eluniversal</td>\n",
       "      <td>www.eluniversal.com.mx</td>\n",
       "    </tr>\n",
       "    <tr>\n",
       "      <td>4</td>\n",
       "      <td>\\n\\nLa noticia de que las niñas y niños de la ...</td>\n",
       "      <td>Entre faldas y pantalones</td>\n",
       "      <td>https://www.eluniversal.com.mx/articulo/letici...</td>\n",
       "      <td>eluniversal</td>\n",
       "      <td>www.eluniversal.com.mx</td>\n",
       "    </tr>\n",
       "    <tr>\n",
       "      <td>...</td>\n",
       "      <td>...</td>\n",
       "      <td>...</td>\n",
       "      <td>...</td>\n",
       "      <td>...</td>\n",
       "      <td>...</td>\n",
       "    </tr>\n",
       "    <tr>\n",
       "      <td>194</td>\n",
       "      <td>\\nCDMX.- Cerca de las 18:30 horas, un hombre d...</td>\n",
       "      <td>Policía auxilia a hombre de la tercera edad qu...</td>\n",
       "      <td>http://www.eluniversal.com.mx/metropoli/cdmx/p...</td>\n",
       "      <td>eluniversal</td>\n",
       "      <td>www.eluniversal.com.mx</td>\n",
       "    </tr>\n",
       "    <tr>\n",
       "      <td>195</td>\n",
       "      <td>\\nTexto: Aída Castro SánchezDiseño web: Miguel...</td>\n",
       "      <td>Las primeras reporteras que rompieron con los ...</td>\n",
       "      <td>https://www.eluniversal.com.mx/mochilazo-en-el...</td>\n",
       "      <td>eluniversal</td>\n",
       "      <td>www.eluniversal.com.mx</td>\n",
       "    </tr>\n",
       "    <tr>\n",
       "      <td>196</td>\n",
       "      <td>\\nTingüindín, Michoacán.- Diego Vidal Manzo, s...</td>\n",
       "      <td>Grupo armado ataca a subdirector de Seguridad ...</td>\n",
       "      <td>http://www.eluniversal.com.mx/estados/grupo-ar...</td>\n",
       "      <td>eluniversal</td>\n",
       "      <td>www.eluniversal.com.mx</td>\n",
       "    </tr>\n",
       "    <tr>\n",
       "      <td>197</td>\n",
       "      <td>NaN</td>\n",
       "      <td>NaN</td>\n",
       "      <td>http://www.eluniversal.com.mx/nacion/seguridad</td>\n",
       "      <td>eluniversal</td>\n",
       "      <td>www.eluniversal.com.mx</td>\n",
       "    </tr>\n",
       "    <tr>\n",
       "      <td>198</td>\n",
       "      <td>NaN</td>\n",
       "      <td>Concacaf pide al Tri priorizar la Copa Oro</td>\n",
       "      <td>http://www.eluniversal.com.mx/deportes</td>\n",
       "      <td>eluniversal</td>\n",
       "      <td>www.eluniversal.com.mx</td>\n",
       "    </tr>\n",
       "  </tbody>\n",
       "</table>\n",
       "<p>199 rows × 5 columns</p>\n",
       "</div>"
      ],
      "text/plain": [
       "                                                  body  \\\n",
       "0    \\nLa procuradora Ernestina Godoy confirmó que ...   \n",
       "1                                                  NaN   \n",
       "2                                                  NaN   \n",
       "3    \\n\\nTras el triunfo de Barbosa y la derrota de...   \n",
       "4    \\n\\nLa noticia de que las niñas y niños de la ...   \n",
       "..                                                 ...   \n",
       "194  \\nCDMX.- Cerca de las 18:30 horas, un hombre d...   \n",
       "195  \\nTexto: Aída Castro SánchezDiseño web: Miguel...   \n",
       "196  \\nTingüindín, Michoacán.- Diego Vidal Manzo, s...   \n",
       "197                                                NaN   \n",
       "198                                                NaN   \n",
       "\n",
       "                                                 title  \\\n",
       "0    Matan a exdiputado de Tláhuac; investigan vínc...   \n",
       "1                                                  NaN   \n",
       "2                                                  NaN   \n",
       "3    Puebla: un tropiezo electoral no es una derrot...   \n",
       "4                            Entre faldas y pantalones   \n",
       "..                                                 ...   \n",
       "194  Policía auxilia a hombre de la tercera edad qu...   \n",
       "195  Las primeras reporteras que rompieron con los ...   \n",
       "196  Grupo armado ataca a subdirector de Seguridad ...   \n",
       "197                                                NaN   \n",
       "198         Concacaf pide al Tri priorizar la Copa Oro   \n",
       "\n",
       "                                                   url newspaper_uid  \\\n",
       "0    http://www.eluniversal.com.mx/metropoli/cdmx/m...   eluniversal   \n",
       "1           http://www.eluniversal.com.mx/deportes/box   eluniversal   \n",
       "2    https://www.tangible-eluniversal.com.mx/en-ver...   eluniversal   \n",
       "3    https://www.eluniversal.com.mx/articulo/maria-...   eluniversal   \n",
       "4    https://www.eluniversal.com.mx/articulo/letici...   eluniversal   \n",
       "..                                                 ...           ...   \n",
       "194  http://www.eluniversal.com.mx/metropoli/cdmx/p...   eluniversal   \n",
       "195  https://www.eluniversal.com.mx/mochilazo-en-el...   eluniversal   \n",
       "196  http://www.eluniversal.com.mx/estados/grupo-ar...   eluniversal   \n",
       "197     http://www.eluniversal.com.mx/nacion/seguridad   eluniversal   \n",
       "198             http://www.eluniversal.com.mx/deportes   eluniversal   \n",
       "\n",
       "                                host  \n",
       "0             www.eluniversal.com.mx  \n",
       "1             www.eluniversal.com.mx  \n",
       "2    www.tangible-eluniversal.com.mx  \n",
       "3             www.eluniversal.com.mx  \n",
       "4             www.eluniversal.com.mx  \n",
       "..                               ...  \n",
       "194           www.eluniversal.com.mx  \n",
       "195           www.eluniversal.com.mx  \n",
       "196           www.eluniversal.com.mx  \n",
       "197           www.eluniversal.com.mx  \n",
       "198           www.eluniversal.com.mx  \n",
       "\n",
       "[199 rows x 5 columns]"
      ]
     },
     "execution_count": 29,
     "metadata": {},
     "output_type": "execute_result"
    }
   ],
   "source": [
    "#2. Obtener el host\n",
    "from urllib.parse import urlparse\n",
    "el_universal['host'] = el_universal['url'].apply(lambda url: urlparse(url).netloc) \n",
    "#apply permite generar transformaciones custom, por medio del uso de lisbrerias de terceros desde pandas\n",
    "#esto para usar el lambda realizamos una función lambda\n",
    "el_universal"
   ]
  },
  {
   "cell_type": "code",
   "execution_count": 30,
   "metadata": {},
   "outputs": [
    {
     "data": {
      "text/plain": [
       "www.eluniversal.com.mx             115\n",
       "www.elbotiquin.mx                    9\n",
       "www.viveusa.mx                       9\n",
       "bit.ly                               8\n",
       "www.tangible-eluniversal.com.mx      7\n",
       "                                  ... \n",
       "www.unionyucatan.mx                  1\n",
       "interactivo.eluniversal.com.mx       1\n",
       "www.facebook.com                     1\n",
       "www.unionguanajuato.mx               1\n",
       "www.unionedomex.mx                   1\n",
       "Name: host, Length: 22, dtype: int64"
      ]
     },
     "execution_count": 30,
     "metadata": {},
     "output_type": "execute_result"
    }
   ],
   "source": [
    "el_universal['host'].value_counts() # contar los items que se repiten en la columna host"
   ]
  },
  {
   "cell_type": "markdown",
   "metadata": {},
   "source": [
    "## Missing data"
   ]
  },
  {
   "cell_type": "code",
   "execution_count": null,
   "metadata": {},
   "outputs": [],
   "source": []
  },
  {
   "cell_type": "markdown",
   "metadata": {},
   "source": [
    "## Duplicate values"
   ]
  },
  {
   "cell_type": "code",
   "execution_count": null,
   "metadata": {},
   "outputs": [],
   "source": []
  },
  {
   "cell_type": "markdown",
   "metadata": {},
   "source": [
    "## Final table"
   ]
  },
  {
   "cell_type": "code",
   "execution_count": null,
   "metadata": {},
   "outputs": [],
   "source": []
  },
  {
   "cell_type": "markdown",
   "metadata": {},
   "source": [
    "## Combining datasets"
   ]
  },
  {
   "cell_type": "code",
   "execution_count": null,
   "metadata": {},
   "outputs": [],
   "source": []
  },
  {
   "cell_type": "markdown",
   "metadata": {},
   "source": [
    "## Descriptive analysis"
   ]
  },
  {
   "cell_type": "code",
   "execution_count": null,
   "metadata": {},
   "outputs": [],
   "source": []
  }
 ],
 "metadata": {
  "kernelspec": {
   "display_name": "Python 3",
   "language": "python",
   "name": "python3"
  },
  "language_info": {
   "codemirror_mode": {
    "name": "ipython",
    "version": 3
   },
   "file_extension": ".py",
   "mimetype": "text/x-python",
   "name": "python",
   "nbconvert_exporter": "python",
   "pygments_lexer": "ipython3",
   "version": "3.7.4"
  }
 },
 "nbformat": 4,
 "nbformat_minor": 2
}
